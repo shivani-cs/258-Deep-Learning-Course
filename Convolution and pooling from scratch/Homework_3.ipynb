{
  "nbformat": 4,
  "nbformat_minor": 0,
  "metadata": {
    "colab": {
      "name": "Homework-3.ipynb",
      "provenance": [],
      "collapsed_sections": []
    },
    "kernelspec": {
      "name": "python3",
      "display_name": "Python 3"
    }
  },
  "cells": [
    {
      "cell_type": "code",
      "metadata": {
        "id": "jGi12jLMT-tf",
        "colab_type": "code",
        "colab": {}
      },
      "source": [
        "import warnings\n",
        "warnings.filterwarnings('ignore')\n",
        "import numpy as np"
      ],
      "execution_count": 0,
      "outputs": []
    },
    {
      "cell_type": "code",
      "metadata": {
        "id": "RgGBrR1QBu6Q",
        "colab_type": "code",
        "outputId": "930e1a9c-5bff-4f1d-8c59-23541c3e3f7e",
        "colab": {
          "base_uri": "https://localhost:8080/",
          "height": 134
        }
      },
      "source": [
        "np.random.seed(1)\n",
        "a = np.random.random_integers( 0 , 1, size = (7, 7) )\n",
        "a"
      ],
      "execution_count": 10,
      "outputs": [
        {
          "output_type": "execute_result",
          "data": {
            "text/plain": [
              "array([[1, 1, 0, 0, 1, 1, 1],\n",
              "       [1, 1, 0, 0, 1, 0, 1],\n",
              "       [1, 0, 0, 1, 0, 0, 0],\n",
              "       [1, 0, 0, 1, 0, 0, 0],\n",
              "       [1, 0, 0, 0, 1, 1, 1],\n",
              "       [1, 1, 0, 0, 0, 1, 1],\n",
              "       [1, 1, 1, 1, 0, 1, 1]])"
            ]
          },
          "metadata": {
            "tags": []
          },
          "execution_count": 10
        }
      ]
    },
    {
      "cell_type": "code",
      "metadata": {
        "id": "mXVTaSnQb_h1",
        "colab_type": "code",
        "colab": {
          "base_uri": "https://localhost:8080/",
          "height": 84
        },
        "outputId": "0a9d1324-38fd-4470-b9c3-7020f95249a2"
      },
      "source": [
        "conv_filter = np.random.random_integers( 0 , 1, size = (3, 3) )\n",
        "print(conv_filter)\n",
        "print(conv_filter.shape)"
      ],
      "execution_count": 11,
      "outputs": [
        {
          "output_type": "stream",
          "text": [
            "[[0 0 1]\n",
            " [0 0 1]\n",
            " [1 1 0]]\n",
            "(3, 3)\n"
          ],
          "name": "stdout"
        }
      ]
    },
    {
      "cell_type": "code",
      "metadata": {
        "id": "CetkF7oqT4eZ",
        "colab_type": "code",
        "outputId": "b40cf833-fad4-42ad-d92a-5a1f10687f15",
        "colab": {
          "base_uri": "https://localhost:8080/",
          "height": 1000
        }
      },
      "source": [
        "# generating sub-matrices using stride 1\n",
        "sub_shape = (3,3)\n",
        "view_shape = tuple(np.subtract(a.shape, sub_shape) + 1) + sub_shape\n",
        "strides = a.strides + a.strides\n",
        "\n",
        "sub_matrices = np.lib.stride_tricks.as_strided(a,view_shape,strides)\n",
        "print(sub_matrices)\n",
        "print(sub_matrices.shape)"
      ],
      "execution_count": 12,
      "outputs": [
        {
          "output_type": "stream",
          "text": [
            "[[[[1 1 0]\n",
            "   [1 1 0]\n",
            "   [1 0 0]]\n",
            "\n",
            "  [[1 0 0]\n",
            "   [1 0 0]\n",
            "   [0 0 1]]\n",
            "\n",
            "  [[0 0 1]\n",
            "   [0 0 1]\n",
            "   [0 1 0]]\n",
            "\n",
            "  [[0 1 1]\n",
            "   [0 1 0]\n",
            "   [1 0 0]]\n",
            "\n",
            "  [[1 1 1]\n",
            "   [1 0 1]\n",
            "   [0 0 0]]]\n",
            "\n",
            "\n",
            " [[[1 1 0]\n",
            "   [1 0 0]\n",
            "   [1 0 0]]\n",
            "\n",
            "  [[1 0 0]\n",
            "   [0 0 1]\n",
            "   [0 0 1]]\n",
            "\n",
            "  [[0 0 1]\n",
            "   [0 1 0]\n",
            "   [0 1 0]]\n",
            "\n",
            "  [[0 1 0]\n",
            "   [1 0 0]\n",
            "   [1 0 0]]\n",
            "\n",
            "  [[1 0 1]\n",
            "   [0 0 0]\n",
            "   [0 0 0]]]\n",
            "\n",
            "\n",
            " [[[1 0 0]\n",
            "   [1 0 0]\n",
            "   [1 0 0]]\n",
            "\n",
            "  [[0 0 1]\n",
            "   [0 0 1]\n",
            "   [0 0 0]]\n",
            "\n",
            "  [[0 1 0]\n",
            "   [0 1 0]\n",
            "   [0 0 1]]\n",
            "\n",
            "  [[1 0 0]\n",
            "   [1 0 0]\n",
            "   [0 1 1]]\n",
            "\n",
            "  [[0 0 0]\n",
            "   [0 0 0]\n",
            "   [1 1 1]]]\n",
            "\n",
            "\n",
            " [[[1 0 0]\n",
            "   [1 0 0]\n",
            "   [1 1 0]]\n",
            "\n",
            "  [[0 0 1]\n",
            "   [0 0 0]\n",
            "   [1 0 0]]\n",
            "\n",
            "  [[0 1 0]\n",
            "   [0 0 1]\n",
            "   [0 0 0]]\n",
            "\n",
            "  [[1 0 0]\n",
            "   [0 1 1]\n",
            "   [0 0 1]]\n",
            "\n",
            "  [[0 0 0]\n",
            "   [1 1 1]\n",
            "   [0 1 1]]]\n",
            "\n",
            "\n",
            " [[[1 0 0]\n",
            "   [1 1 0]\n",
            "   [1 1 1]]\n",
            "\n",
            "  [[0 0 0]\n",
            "   [1 0 0]\n",
            "   [1 1 1]]\n",
            "\n",
            "  [[0 0 1]\n",
            "   [0 0 0]\n",
            "   [1 1 0]]\n",
            "\n",
            "  [[0 1 1]\n",
            "   [0 0 1]\n",
            "   [1 0 1]]\n",
            "\n",
            "  [[1 1 1]\n",
            "   [0 1 1]\n",
            "   [0 1 1]]]]\n",
            "(5, 5, 3, 3)\n"
          ],
          "name": "stdout"
        }
      ]
    },
    {
      "cell_type": "code",
      "metadata": {
        "id": "fjy_YIK4DaRx",
        "colab_type": "code",
        "outputId": "02c9b0e8-7adb-421e-8482-78e23a54f256",
        "colab": {
          "base_uri": "https://localhost:8080/",
          "height": 101
        }
      },
      "source": [
        "# convolution operation\n",
        "m = np.einsum('ij,klij->kl',conv_filter,sub_matrices)\n",
        "print(m)"
      ],
      "execution_count": 13,
      "outputs": [
        {
          "output_type": "stream",
          "text": [
            "[[1 0 3 2 2]\n",
            " [1 1 2 1 1]\n",
            " [1 2 0 1 2]\n",
            " [2 2 1 1 2]\n",
            " [2 2 3 3 3]]\n"
          ],
          "name": "stdout"
        }
      ]
    },
    {
      "cell_type": "code",
      "metadata": {
        "id": "fi4tHicoSUfm",
        "colab_type": "code",
        "colab": {}
      },
      "source": [
        "'''\n",
        "    2D Pooling function\n",
        "\n",
        "    Parameters:\n",
        "        A: input 2D array\n",
        "        kernel_size: int, the size of the window\n",
        "        stride: int, the stride of the window\n",
        "        padding: int, implicit zero paddings on both sides of the input\n",
        "        pool_mode: string, 'max' or 'avg'\n",
        "'''\n",
        "from numpy.lib.stride_tricks import as_strided\n",
        "\n",
        "def pool2d(A, kernel_size, stride, padding, pool_mode='max'):\n",
        "    # Padding\n",
        "    A = np.pad(A, padding, mode='constant')\n",
        "\n",
        "    # Window view of A\n",
        "    output_shape = ((A.shape[0] - kernel_size)//stride + 1,\n",
        "                    (A.shape[1] - kernel_size)//stride + 1)\n",
        "    kernel_size = (kernel_size, kernel_size)\n",
        "    A_w = as_strided(A, shape = output_shape + kernel_size, \n",
        "                        strides = (stride*A.strides[0],\n",
        "                                   stride*A.strides[1]) + A.strides)\n",
        "    A_w = A_w.reshape(-1, *kernel_size)\n",
        "\n",
        "    # Return the result of pooling\n",
        "    if pool_mode == 'max':\n",
        "        return A_w.max(axis=(1,2)).reshape(output_shape)\n",
        "    elif pool_mode == 'avg':\n",
        "        return A_w.mean(axis=(1,2)).reshape(output_shape)"
      ],
      "execution_count": 0,
      "outputs": []
    },
    {
      "cell_type": "code",
      "metadata": {
        "id": "H4qV5kh7SXXK",
        "colab_type": "code",
        "outputId": "a01708da-aec8-4536-dfd5-229cf5f30650",
        "colab": {
          "base_uri": "https://localhost:8080/",
          "height": 84
        }
      },
      "source": [
        "# max-pooling\n",
        "pool2d(m, kernel_size=2, stride=1, padding=0, pool_mode='max')"
      ],
      "execution_count": 15,
      "outputs": [
        {
          "output_type": "execute_result",
          "data": {
            "text/plain": [
              "array([[1, 3, 3, 2],\n",
              "       [2, 2, 2, 2],\n",
              "       [2, 2, 1, 2],\n",
              "       [2, 3, 3, 3]])"
            ]
          },
          "metadata": {
            "tags": []
          },
          "execution_count": 15
        }
      ]
    },
    {
      "cell_type": "code",
      "metadata": {
        "id": "W7p62t5FTWfz",
        "colab_type": "code",
        "outputId": "5fb30142-7d6e-44ed-8a33-c233e0e4aeb0",
        "colab": {
          "base_uri": "https://localhost:8080/",
          "height": 84
        }
      },
      "source": [
        "# average-pooling\n",
        "pool2d(m, kernel_size=2, stride=1, padding=0, pool_mode='avg')"
      ],
      "execution_count": 16,
      "outputs": [
        {
          "output_type": "execute_result",
          "data": {
            "text/plain": [
              "array([[0.75, 1.5 , 2.  , 1.5 ],\n",
              "       [1.25, 1.25, 1.  , 1.25],\n",
              "       [1.75, 1.25, 0.75, 1.5 ],\n",
              "       [2.  , 2.  , 2.  , 2.25]])"
            ]
          },
          "metadata": {
            "tags": []
          },
          "execution_count": 16
        }
      ]
    }
  ]
}