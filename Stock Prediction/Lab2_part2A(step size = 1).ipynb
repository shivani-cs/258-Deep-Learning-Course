{
 "cells": [
  {
   "cell_type": "code",
   "execution_count": 2,
   "metadata": {},
   "outputs": [],
   "source": [
    "# Importing the libraries\n",
    "import numpy as np\n",
    "import matplotlib.pyplot as plt\n",
    "import pandas as pd"
   ]
  },
  {
   "cell_type": "code",
   "execution_count": 3,
   "metadata": {},
   "outputs": [],
   "source": [
    "# Importing the training set\n",
    "dataset_train = pd.read_csv('Google_Stock_Price_Train.csv')"
   ]
  },
  {
   "cell_type": "code",
   "execution_count": 4,
   "metadata": {},
   "outputs": [],
   "source": [
    "dataset_train['Close'] = dataset_train['Close'].str.replace(',', '')"
   ]
  },
  {
   "cell_type": "code",
   "execution_count": 5,
   "metadata": {},
   "outputs": [],
   "source": [
    "training_set = dataset_train.iloc[:, 4:5].values"
   ]
  },
  {
   "cell_type": "code",
   "execution_count": 6,
   "metadata": {},
   "outputs": [],
   "source": [
    "# Feature Scaling\n",
    "from sklearn.preprocessing import MinMaxScaler\n",
    "sc = MinMaxScaler(feature_range = (0, 1))\n",
    "training_set_scaled = sc.fit_transform(training_set)"
   ]
  },
  {
   "cell_type": "code",
   "execution_count": 7,
   "metadata": {},
   "outputs": [
    {
     "data": {
      "text/plain": [
       "array([[0.23757287],\n",
       "       [0.24151427],\n",
       "       [0.22878051],\n",
       "       ...,\n",
       "       [0.40495845],\n",
       "       [0.40184391],\n",
       "       [0.38672602]])"
      ]
     },
     "execution_count": 7,
     "metadata": {},
     "output_type": "execute_result"
    }
   ],
   "source": [
    "training_set_scaled"
   ]
  },
  {
   "cell_type": "code",
   "execution_count": 8,
   "metadata": {},
   "outputs": [],
   "source": [
    "# Creating a data structure with 1 timesteps and 1 output\n",
    "X_train = []\n",
    "y_train = []\n",
    "for i in range(1, 1258):\n",
    "    X_train.append(training_set_scaled[i-1:i, 0])\n",
    "    y_train.append(training_set_scaled[i, 0])\n",
    "X_train, y_train = np.array(X_train), np.array(y_train)"
   ]
  },
  {
   "cell_type": "code",
   "execution_count": 9,
   "metadata": {},
   "outputs": [
    {
     "data": {
      "text/plain": [
       "(1257, 1)"
      ]
     },
     "execution_count": 9,
     "metadata": {},
     "output_type": "execute_result"
    }
   ],
   "source": [
    "X_train.shape"
   ]
  },
  {
   "cell_type": "code",
   "execution_count": 10,
   "metadata": {},
   "outputs": [],
   "source": [
    "# Reshaping\n",
    "X_train = np.reshape(X_train, (X_train.shape[0], X_train.shape[1], 1))"
   ]
  },
  {
   "cell_type": "code",
   "execution_count": 11,
   "metadata": {},
   "outputs": [
    {
     "data": {
      "text/plain": [
       "(1257, 1, 1)"
      ]
     },
     "execution_count": 11,
     "metadata": {},
     "output_type": "execute_result"
    }
   ],
   "source": [
    "X_train.shape"
   ]
  },
  {
   "cell_type": "code",
   "execution_count": 12,
   "metadata": {},
   "outputs": [
    {
     "name": "stderr",
     "output_type": "stream",
     "text": [
      "Using TensorFlow backend.\n"
     ]
    }
   ],
   "source": [
    "# Importing the Keras libraries and packages\n",
    "from keras.models import Sequential\n",
    "from keras.layers import Dense\n",
    "from keras.layers import LSTM\n",
    "from keras.layers import Dropout"
   ]
  },
  {
   "cell_type": "code",
   "execution_count": 13,
   "metadata": {},
   "outputs": [],
   "source": [
    "# Initialising the RNN\n",
    "regressor = Sequential()\n",
    "\n",
    "# Adding the first LSTM layer and some Dropout regularisation\n",
    "regressor.add(LSTM(units = 50, return_sequences = True, input_shape = (X_train.shape[1], 1)))\n",
    "regressor.add(Dropout(0.2))\n",
    "\n",
    "# Adding a second LSTM layer and some Dropout regularisation\n",
    "regressor.add(LSTM(units = 50, return_sequences = True))\n",
    "regressor.add(Dropout(0.2))\n",
    "\n",
    "# Adding a third LSTM layer and some Dropout regularisation\n",
    "regressor.add(LSTM(units = 50, return_sequences = True))\n",
    "regressor.add(Dropout(0.2))\n",
    "\n",
    "# Adding a fifth LSTM layer and some Dropout regularisation\n",
    "regressor.add(LSTM(units = 50))\n",
    "regressor.add(Dropout(0.2))\n",
    "\n",
    "# Adding the output layer\n",
    "regressor.add(Dense(units = 1))"
   ]
  },
  {
   "cell_type": "code",
   "execution_count": 14,
   "metadata": {},
   "outputs": [
    {
     "name": "stdout",
     "output_type": "stream",
     "text": [
      "Model: \"sequential_1\"\n",
      "_________________________________________________________________\n",
      "Layer (type)                 Output Shape              Param #   \n",
      "=================================================================\n",
      "lstm_1 (LSTM)                (None, 1, 50)             10400     \n",
      "_________________________________________________________________\n",
      "dropout_1 (Dropout)          (None, 1, 50)             0         \n",
      "_________________________________________________________________\n",
      "lstm_2 (LSTM)                (None, 1, 50)             20200     \n",
      "_________________________________________________________________\n",
      "dropout_2 (Dropout)          (None, 1, 50)             0         \n",
      "_________________________________________________________________\n",
      "lstm_3 (LSTM)                (None, 1, 50)             20200     \n",
      "_________________________________________________________________\n",
      "dropout_3 (Dropout)          (None, 1, 50)             0         \n",
      "_________________________________________________________________\n",
      "lstm_4 (LSTM)                (None, 50)                20200     \n",
      "_________________________________________________________________\n",
      "dropout_4 (Dropout)          (None, 50)                0         \n",
      "_________________________________________________________________\n",
      "dense_1 (Dense)              (None, 1)                 51        \n",
      "=================================================================\n",
      "Total params: 71,051\n",
      "Trainable params: 71,051\n",
      "Non-trainable params: 0\n",
      "_________________________________________________________________\n"
     ]
    }
   ],
   "source": [
    "regressor.summary()"
   ]
  },
  {
   "cell_type": "code",
   "execution_count": 66,
   "metadata": {},
   "outputs": [
    {
     "name": "stdout",
     "output_type": "stream",
     "text": [
      "Epoch 1/100\n",
      "1257/1257 [==============================] - 2s 1ms/step - loss: 0.0976\n",
      "Epoch 2/100\n",
      "1257/1257 [==============================] - 0s 269us/step - loss: 0.0457\n",
      "Epoch 3/100\n",
      "1257/1257 [==============================] - 0s 265us/step - loss: 0.0169\n",
      "Epoch 4/100\n",
      "1257/1257 [==============================] - 0s 267us/step - loss: 0.0071\n",
      "Epoch 5/100\n",
      "1257/1257 [==============================] - 0s 266us/step - loss: 0.0047\n",
      "Epoch 6/100\n",
      "1257/1257 [==============================] - 0s 257us/step - loss: 0.0042\n",
      "Epoch 7/100\n",
      "1257/1257 [==============================] - 0s 265us/step - loss: 0.0035\n",
      "Epoch 8/100\n",
      "1257/1257 [==============================] - 0s 267us/step - loss: 0.0033\n",
      "Epoch 9/100\n",
      "1257/1257 [==============================] - 0s 265us/step - loss: 0.0031\n",
      "Epoch 10/100\n",
      "1257/1257 [==============================] - 0s 260us/step - loss: 0.0031\n",
      "Epoch 11/100\n",
      "1257/1257 [==============================] - 0s 264us/step - loss: 0.0027\n",
      "Epoch 12/100\n",
      "1257/1257 [==============================] - 0s 272us/step - loss: 0.0027\n",
      "Epoch 13/100\n",
      "1257/1257 [==============================] - 0s 299us/step - loss: 0.0029 0s - loss: 0.\n",
      "Epoch 14/100\n",
      "1257/1257 [==============================] - 0s 283us/step - loss: 0.0025\n",
      "Epoch 15/100\n",
      "1257/1257 [==============================] - 0s 288us/step - loss: 0.0026\n",
      "Epoch 16/100\n",
      "1257/1257 [==============================] - 0s 282us/step - loss: 0.0026\n",
      "Epoch 17/100\n",
      "1257/1257 [==============================] - 0s 270us/step - loss: 0.0025\n",
      "Epoch 18/100\n",
      "1257/1257 [==============================] - 0s 263us/step - loss: 0.0024\n",
      "Epoch 19/100\n",
      "1257/1257 [==============================] - 0s 264us/step - loss: 0.0026\n",
      "Epoch 20/100\n",
      "1257/1257 [==============================] - 0s 265us/step - loss: 0.0027\n",
      "Epoch 21/100\n",
      "1257/1257 [==============================] - 0s 262us/step - loss: 0.0025\n",
      "Epoch 22/100\n",
      "1257/1257 [==============================] - 0s 264us/step - loss: 0.0026\n",
      "Epoch 23/100\n",
      "1257/1257 [==============================] - 0s 275us/step - loss: 0.0021\n",
      "Epoch 24/100\n",
      "1257/1257 [==============================] - 0s 257us/step - loss: 0.0021\n",
      "Epoch 25/100\n",
      "1257/1257 [==============================] - 0s 264us/step - loss: 0.0022\n",
      "Epoch 26/100\n",
      "1257/1257 [==============================] - 0s 270us/step - loss: 0.0022\n",
      "Epoch 27/100\n",
      "1257/1257 [==============================] - 0s 290us/step - loss: 0.0022\n",
      "Epoch 28/100\n",
      "1257/1257 [==============================] - 0s 289us/step - loss: 0.0021\n",
      "Epoch 29/100\n",
      "1257/1257 [==============================] - 0s 279us/step - loss: 0.0021\n",
      "Epoch 30/100\n",
      "1257/1257 [==============================] - 0s 266us/step - loss: 0.0021\n",
      "Epoch 31/100\n",
      "1257/1257 [==============================] - 0s 264us/step - loss: 0.0022\n",
      "Epoch 32/100\n",
      "1257/1257 [==============================] - 0s 268us/step - loss: 0.0020\n",
      "Epoch 33/100\n",
      "1257/1257 [==============================] - 0s 259us/step - loss: 0.0024\n",
      "Epoch 34/100\n",
      "1257/1257 [==============================] - 0s 262us/step - loss: 0.0020\n",
      "Epoch 35/100\n",
      "1257/1257 [==============================] - 0s 261us/step - loss: 0.0021\n",
      "Epoch 36/100\n",
      "1257/1257 [==============================] - 0s 263us/step - loss: 0.0022\n",
      "Epoch 37/100\n",
      "1257/1257 [==============================] - 0s 264us/step - loss: 0.0020\n",
      "Epoch 38/100\n",
      "1257/1257 [==============================] - 0s 272us/step - loss: 0.0020\n",
      "Epoch 39/100\n",
      "1257/1257 [==============================] - 0s 264us/step - loss: 0.0020\n",
      "Epoch 40/100\n",
      "1257/1257 [==============================] - 0s 266us/step - loss: 0.0024\n",
      "Epoch 41/100\n",
      "1257/1257 [==============================] - 0s 263us/step - loss: 0.0020\n",
      "Epoch 42/100\n",
      "1257/1257 [==============================] - 0s 258us/step - loss: 0.0025\n",
      "Epoch 43/100\n",
      "1257/1257 [==============================] - 0s 258us/step - loss: 0.0021\n",
      "Epoch 44/100\n",
      "1257/1257 [==============================] - 0s 293us/step - loss: 0.0020\n",
      "Epoch 45/100\n",
      "1257/1257 [==============================] - 0s 262us/step - loss: 0.0018\n",
      "Epoch 46/100\n",
      "1257/1257 [==============================] - 0s 261us/step - loss: 0.0019\n",
      "Epoch 47/100\n",
      "1257/1257 [==============================] - 0s 261us/step - loss: 0.0020\n",
      "Epoch 48/100\n",
      "1257/1257 [==============================] - 0s 273us/step - loss: 0.0020\n",
      "Epoch 49/100\n",
      "1257/1257 [==============================] - 0s 262us/step - loss: 0.0019\n",
      "Epoch 50/100\n",
      "1257/1257 [==============================] - 0s 262us/step - loss: 0.0020\n",
      "Epoch 51/100\n",
      "1257/1257 [==============================] - 0s 274us/step - loss: 0.0019\n",
      "Epoch 52/100\n",
      "1257/1257 [==============================] - 0s 266us/step - loss: 0.0017ETA: 0s - loss: 0.0012\n",
      "Epoch 53/100\n",
      "1257/1257 [==============================] - 0s 269us/step - loss: 0.0019\n",
      "Epoch 54/100\n",
      "1257/1257 [==============================] - 0s 273us/step - loss: 0.0019\n",
      "Epoch 55/100\n",
      "1257/1257 [==============================] - 0s 267us/step - loss: 0.0020\n",
      "Epoch 56/100\n",
      "1257/1257 [==============================] - 0s 270us/step - loss: 0.0021\n",
      "Epoch 57/100\n",
      "1257/1257 [==============================] - 0s 322us/step - loss: 0.0021\n",
      "Epoch 58/100\n",
      "1257/1257 [==============================] - 0s 285us/step - loss: 0.0019\n",
      "Epoch 59/100\n",
      "1257/1257 [==============================] - 0s 277us/step - loss: 0.0020\n",
      "Epoch 60/100\n",
      "1257/1257 [==============================] - 0s 301us/step - loss: 0.0022\n",
      "Epoch 61/100\n",
      "1257/1257 [==============================] - 0s 286us/step - loss: 0.0017\n",
      "Epoch 62/100\n",
      "1257/1257 [==============================] - 0s 317us/step - loss: 0.0023\n",
      "Epoch 63/100\n",
      "1257/1257 [==============================] - 0s 308us/step - loss: 0.0021\n",
      "Epoch 64/100\n",
      "1257/1257 [==============================] - 0s 264us/step - loss: 0.0020\n",
      "Epoch 65/100\n",
      "1257/1257 [==============================] - 0s 269us/step - loss: 0.0020\n",
      "Epoch 66/100\n",
      "1257/1257 [==============================] - 0s 266us/step - loss: 0.0021\n",
      "Epoch 67/100\n",
      "1257/1257 [==============================] - 0s 270us/step - loss: 0.0019\n",
      "Epoch 68/100\n",
      "1257/1257 [==============================] - 0s 272us/step - loss: 0.0017\n",
      "Epoch 69/100\n",
      "1257/1257 [==============================] - 0s 270us/step - loss: 0.0021\n",
      "Epoch 70/100\n",
      "1257/1257 [==============================] - 0s 264us/step - loss: 0.0018\n",
      "Epoch 71/100\n",
      "1257/1257 [==============================] - 0s 271us/step - loss: 0.0019\n",
      "Epoch 72/100\n",
      "1257/1257 [==============================] - 0s 271us/step - loss: 0.0021\n",
      "Epoch 73/100\n",
      "1257/1257 [==============================] - 0s 271us/step - loss: 0.0019\n",
      "Epoch 74/100\n",
      "1257/1257 [==============================] - 0s 263us/step - loss: 0.0018\n",
      "Epoch 75/100\n",
      "1257/1257 [==============================] - 0s 271us/step - loss: 0.0019\n",
      "Epoch 76/100\n",
      "1257/1257 [==============================] - 0s 267us/step - loss: 0.0021\n",
      "Epoch 77/100\n",
      "1257/1257 [==============================] - 0s 266us/step - loss: 0.0018\n",
      "Epoch 78/100\n",
      "1257/1257 [==============================] - 0s 264us/step - loss: 0.0022\n",
      "Epoch 79/100\n",
      "1257/1257 [==============================] - 0s 260us/step - loss: 0.0019\n",
      "Epoch 80/100\n",
      "1257/1257 [==============================] - 0s 263us/step - loss: 0.0020\n",
      "Epoch 81/100\n",
      "1257/1257 [==============================] - 0s 272us/step - loss: 0.0018\n",
      "Epoch 82/100\n",
      "1257/1257 [==============================] - 0s 264us/step - loss: 0.0018 0s - loss: 0.\n",
      "Epoch 83/100\n",
      "1257/1257 [==============================] - 0s 265us/step - loss: 0.0020\n",
      "Epoch 84/100\n",
      "1257/1257 [==============================] - 0s 263us/step - loss: 0.0019\n",
      "Epoch 85/100\n",
      "1257/1257 [==============================] - 0s 277us/step - loss: 0.0021\n",
      "Epoch 86/100\n",
      "1257/1257 [==============================] - 0s 265us/step - loss: 0.0017\n",
      "Epoch 87/100\n",
      "1257/1257 [==============================] - 0s 270us/step - loss: 0.0017\n",
      "Epoch 88/100\n",
      "1257/1257 [==============================] - 0s 260us/step - loss: 0.0018\n",
      "Epoch 89/100\n",
      "1257/1257 [==============================] - 0s 270us/step - loss: 0.0019\n",
      "Epoch 90/100\n",
      "1257/1257 [==============================] - 0s 264us/step - loss: 0.0019\n",
      "Epoch 91/100\n",
      "1257/1257 [==============================] - 0s 258us/step - loss: 0.0018\n",
      "Epoch 92/100\n",
      "1257/1257 [==============================] - 0s 269us/step - loss: 0.0019\n",
      "Epoch 93/100\n",
      "1257/1257 [==============================] - 0s 269us/step - loss: 0.0020\n",
      "Epoch 94/100\n",
      "1257/1257 [==============================] - 0s 259us/step - loss: 0.0017\n",
      "Epoch 95/100\n",
      "1257/1257 [==============================] - 0s 270us/step - loss: 0.0020\n",
      "Epoch 96/100\n",
      "1257/1257 [==============================] - 0s 270us/step - loss: 0.0018\n",
      "Epoch 97/100\n",
      "1257/1257 [==============================] - 0s 262us/step - loss: 0.0021\n",
      "Epoch 98/100\n",
      "1257/1257 [==============================] - 0s 262us/step - loss: 0.0020\n",
      "Epoch 99/100\n",
      "1257/1257 [==============================] - 0s 259us/step - loss: 0.0020\n",
      "Epoch 100/100\n",
      "1257/1257 [==============================] - 0s 267us/step - loss: 0.0019\n"
     ]
    },
    {
     "data": {
      "text/plain": [
       "<keras.callbacks.callbacks.History at 0x1920b427a08>"
      ]
     },
     "execution_count": 66,
     "metadata": {},
     "output_type": "execute_result"
    }
   ],
   "source": [
    "# Compiling the RNN - RMSprop optimizer\n",
    "regressor.compile(optimizer = 'adam', loss = 'mean_squared_error')\n",
    "\n",
    "# Fitting the RNN to the Training set\n",
    "regressor.fit(X_train, y_train, epochs = 100, batch_size = 32)"
   ]
  },
  {
   "cell_type": "code",
   "execution_count": 67,
   "metadata": {},
   "outputs": [],
   "source": [
    "# Getting the real stock price \n",
    "dataset_test = pd.read_csv('Google_Stock_Price_Test.csv')\n",
    "real_stock_price = dataset_test.iloc[:, 4:5].values"
   ]
  },
  {
   "cell_type": "code",
   "execution_count": 68,
   "metadata": {},
   "outputs": [
    {
     "data": {
      "text/plain": [
       "array([[786.14],\n",
       "       [786.9 ],\n",
       "       [794.02],\n",
       "       [806.15],\n",
       "       [806.65],\n",
       "       [804.79],\n",
       "       [807.91],\n",
       "       [806.36],\n",
       "       [807.88],\n",
       "       [804.61],\n",
       "       [806.07],\n",
       "       [802.17],\n",
       "       [805.02],\n",
       "       [819.31],\n",
       "       [823.87],\n",
       "       [835.67],\n",
       "       [832.15],\n",
       "       [823.31],\n",
       "       [802.32],\n",
       "       [796.79]])"
      ]
     },
     "execution_count": 68,
     "metadata": {},
     "output_type": "execute_result"
    }
   ],
   "source": [
    "real_stock_price"
   ]
  },
  {
   "cell_type": "code",
   "execution_count": 69,
   "metadata": {},
   "outputs": [
    {
     "data": {
      "text/plain": [
       "20"
      ]
     },
     "execution_count": 69,
     "metadata": {},
     "output_type": "execute_result"
    }
   ],
   "source": [
    "len(dataset_test)"
   ]
  },
  {
   "cell_type": "code",
   "execution_count": 70,
   "metadata": {},
   "outputs": [],
   "source": [
    "# Getting the predicted stock price \n",
    "dataset_total = pd.concat((dataset_train['Close'], dataset_test['Close']), axis = 0)\n",
    "inputs = dataset_total[len(dataset_total) - len(dataset_test) - 1:].values\n",
    "inputs = inputs.reshape(-1,1)\n",
    "inputs = sc.transform(inputs)"
   ]
  },
  {
   "cell_type": "code",
   "execution_count": 71,
   "metadata": {},
   "outputs": [
    {
     "data": {
      "text/plain": [
       "(21, 1)"
      ]
     },
     "execution_count": 71,
     "metadata": {},
     "output_type": "execute_result"
    }
   ],
   "source": [
    "inputs.shape"
   ]
  },
  {
   "cell_type": "code",
   "execution_count": 72,
   "metadata": {},
   "outputs": [],
   "source": [
    "X_test = []\n",
    "for i in range(1, 21):\n",
    "    X_test.append(inputs[i-1:i, 0])\n",
    "X_test = np.array(X_test)\n",
    "X_test = np.reshape(X_test, (X_test.shape[0], X_test.shape[1], 1))\n",
    "predicted_stock_price = regressor.predict(X_test)\n",
    "predicted_stock_price = sc.inverse_transform(predicted_stock_price)"
   ]
  },
  {
   "cell_type": "code",
   "execution_count": 73,
   "metadata": {},
   "outputs": [
    {
     "data": {
      "text/plain": [
       "array([[755.3305 ],\n",
       "       [770.2133 ],\n",
       "       [771.0069 ],\n",
       "       [778.45807],\n",
       "       [791.2165 ],\n",
       "       [791.74396],\n",
       "       [789.7823 ],\n",
       "       [793.0737 ],\n",
       "       [791.438  ],\n",
       "       [793.0421 ],\n",
       "       [789.59247],\n",
       "       [791.132  ],\n",
       "       [787.0219 ],\n",
       "       [790.0247 ],\n",
       "       [805.1368 ],\n",
       "       [809.9763 ],\n",
       "       [822.5304 ],\n",
       "       [818.7813 ],\n",
       "       [809.3816 ],\n",
       "       [787.1799 ]], dtype=float32)"
      ]
     },
     "execution_count": 73,
     "metadata": {},
     "output_type": "execute_result"
    }
   ],
   "source": [
    "predicted_stock_price"
   ]
  },
  {
   "cell_type": "code",
   "execution_count": 74,
   "metadata": {},
   "outputs": [
    {
     "data": {
      "image/png": "[encoded data removed]",
      "text/plain": [
       "<Figure size 432x288 with 1 Axes>"
      ]
     },
     "metadata": {
      "needs_background": "light"
     },
     "output_type": "display_data"
    }
   ],
   "source": [
    "# Visualising the results\n",
    "plt.plot(real_stock_price, color = 'red', label = 'Real Google Stock Price')\n",
    "plt.plot(predicted_stock_price, color = 'blue', label = 'Predicted Google Stock Price')\n",
    "plt.title('Google Stock Price Prediction')\n",
    "plt.xlabel('Time')\n",
    "plt.ylabel('Google Stock Price')\n",
    "plt.legend()\n",
    "plt.show()"
   ]
  },
  {
   "cell_type": "code",
   "execution_count": null,
   "metadata": {},
   "outputs": [],
   "source": []
  }
 ],
 "metadata": {
  "kernelspec": {
   "display_name": "Python 3",
   "language": "python",
   "name": "python3"
  },
  "language_info": {
   "codemirror_mode": {
    "name": "ipython",
    "version": 3
   },
   "file_extension": ".py",
   "mimetype": "text/x-python",
   "name": "python",
   "nbconvert_exporter": "python",
   "pygments_lexer": "ipython3",
   "version": "3.7.6"
  }
 },
 "nbformat": 4,
 "nbformat_minor": 4
}
