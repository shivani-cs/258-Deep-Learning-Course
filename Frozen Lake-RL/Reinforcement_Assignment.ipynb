{
 "cells": [
  {
   "cell_type": "code",
   "execution_count": 1,
   "metadata": {
    "colab": {},
    "colab_type": "code",
    "id": "2Y9aWCcJiedm"
   },
   "outputs": [],
   "source": [
    "#import libraries\n",
    "import numpy as np\n",
    "import gym\n",
    "import random\n",
    "import matplotlib.pyplot as plt\n",
    "np.random.seed = 29"
   ]
  },
  {
   "cell_type": "code",
   "execution_count": 2,
   "metadata": {
    "colab": {},
    "colab_type": "code",
    "id": "kiipdumSijvj"
   },
   "outputs": [],
   "source": [
    "#create environment for Frozen Lake\n",
    "env = gym.make(\"FrozenLake-v0\")"
   ]
  },
  {
   "cell_type": "code",
   "execution_count": 3,
   "metadata": {
    "colab": {},
    "colab_type": "code",
    "id": "5JWlYzObiqoU"
   },
   "outputs": [],
   "source": [
    "# Directions --->  0: LEFT, 1: DOWN, 2: RIGHT, 3: UP\n",
    "# https://github.com/openai/gym/blob/master/gym/envs/toy_text/frozen_lake.py\n",
    "\n",
    "direction = {0:'LEFT', 1:'DOWN', 2:'RIGHT', 3:'UP'}"
   ]
  },
  {
   "cell_type": "code",
   "execution_count": 4,
   "metadata": {
    "colab": {},
    "colab_type": "code",
    "id": "Bnl-jPUNivcv"
   },
   "outputs": [],
   "source": [
    "# Initialize the q-table to all zeros\n",
    "num_actions = env.action_space.n\n",
    "num_states = env.observation_space.n\n",
    "q_table = np.zeros((num_states, num_actions))\n",
    "\n",
    "# Q-table update parameters\n",
    "alpha = 0.8\n",
    "gamma = 0.95\n",
    "\n",
    "# Exploration parameters\n",
    "max_epsilon = 1.0\n",
    "min_epsilon = 0.01\n",
    "decay_rate = 0.001"
   ]
  },
  {
   "cell_type": "markdown",
   "metadata": {},
   "source": [
    "## Random Walk"
   ]
  },
  {
   "cell_type": "code",
   "execution_count": 5,
   "metadata": {},
   "outputs": [
    {
     "name": "stdout",
     "output_type": "stream",
     "text": [
      "Success Percentage = 1.29 %\n",
      "Average number of steps taken to reach the goal = 7.71\n"
     ]
    }
   ],
   "source": [
    "n, max_steps = 10000, 100\n",
    "total_reward = 0\n",
    "num_steps = []\n",
    "for episode in range(n):\n",
    "    observation = env.reset()\n",
    "    for i in range(max_steps):\n",
    "        observation, reward, done, info = env.step(env.action_space.sample())\n",
    "        if done: \n",
    "            total_reward += reward\n",
    "            num_steps.append(i+1)\n",
    "            break\n",
    "env.close()\n",
    "print('Success Percentage = {0:.2f} %'.format(100*total_reward/n))\n",
    "print('Average number of steps taken to reach the goal = {0:.2f}'.format(np.mean(num_steps)))"
   ]
  },
  {
   "cell_type": "markdown",
   "metadata": {},
   "source": [
    "## Training Q-Table with Slippery Conditions"
   ]
  },
  {
   "cell_type": "code",
   "execution_count": 17,
   "metadata": {
    "colab": {
     "base_uri": "https://localhost:8080/",
     "height": 50
    },
    "colab_type": "code",
    "id": "nQu85_5djNRm",
    "outputId": "f366ae45-081c-45a5-83fd-78b3731cb186"
   },
   "outputs": [
    {
     "name": "stdout",
     "output_type": "stream",
     "text": [
      "Training started\n",
      "Training done\n"
     ]
    }
   ],
   "source": [
    "#Training Q Table\n",
    "rewards = []\n",
    "epsilon = max_epsilon\n",
    "n, max_steps = 25000, 100\n",
    "print(\"Training started\")\n",
    "for episode in range(n):\n",
    "    s = env.reset()\n",
    "    total_reward = 0\n",
    "    for i in range(max_steps):\n",
    "        if random.uniform(0, 1) < epsilon:\n",
    "            a = env.action_space.sample()\n",
    "        else:\n",
    "            a = np.argmax(q_table[s, :])\n",
    "        \n",
    "        s_new, r, done, info = env.step(a)\n",
    "        # Updating the Q Table using formula(for Slippery Conditions): \n",
    "        # Q(s,a) = Q(s,a) + alpha(r + gamma*max(Q(s’,a’) - Q(s,a))\n",
    "        q_table[s, a] = q_table[s, a] + alpha*(r + gamma*np.max(q_table[s_new, :]) - q_table[s, a])\n",
    "        s, total_reward = s_new, total_reward+r\n",
    "        if done: \n",
    "            rewards.append(total_reward)\n",
    "            epsilon = min_epsilon + (max_epsilon-min_epsilon)*np.exp(-decay_rate*episode)\n",
    "            break\n",
    "env.close()\n",
    "print(\"Training done\")"
   ]
  },
  {
   "cell_type": "code",
   "execution_count": 18,
   "metadata": {
    "colab": {
     "base_uri": "https://localhost:8080/",
     "height": 286
    },
    "colab_type": "code",
    "id": "b0TnLgDdjRLy",
    "outputId": "6f65112c-fd57-4bae-e37a-7c8956b6e05e"
   },
   "outputs": [
    {
     "name": "stdout",
     "output_type": "stream",
     "text": [
      "[[0.10361 0.07279 0.0771  0.09632]\n",
      " [0.02059 0.01125 0.00624 0.09839]\n",
      " [0.10324 0.0109  0.00556 0.018  ]\n",
      " [0.0049  0.      0.00445 0.01804]\n",
      " [0.10097 0.01792 0.02199 0.00516]\n",
      " [0.      0.      0.      0.     ]\n",
      " [0.00004 0.00001 0.61873 0.     ]\n",
      " [0.      0.      0.      0.     ]\n",
      " [0.00163 0.07453 0.02027 0.0756 ]\n",
      " [0.00066 0.6635  0.01187 0.02279]\n",
      " [0.91629 0.00104 0.00082 0.0056 ]\n",
      " [0.      0.      0.      0.     ]\n",
      " [0.      0.      0.      0.     ]\n",
      " [0.01721 0.02693 0.68318 0.06515]\n",
      " [0.20537 0.99981 0.18711 0.22484]\n",
      " [0.      0.      0.      0.     ]]\n"
     ]
    }
   ],
   "source": [
    "# Q-Table\n",
    "with np.printoptions(precision=5, suppress=True):\n",
    "    print(q_table)"
   ]
  },
  {
   "cell_type": "code",
   "execution_count": 19,
   "metadata": {
    "colab": {
     "base_uri": "https://localhost:8080/",
     "height": 513
    },
    "colab_type": "code",
    "id": "dlmXdsKIjdWt",
    "outputId": "1a5bb2d5-4f75-402c-f576-8b00604906d8"
   },
   "outputs": [
    {
     "data": {
      "image/png": "[encoded data removed]",
      "text/plain": [
       "<Figure size 576x576 with 1 Axes>"
      ]
     },
     "metadata": {
      "needs_background": "light"
     },
     "output_type": "display_data"
    }
   ],
   "source": [
    "# Reward over time graph\n",
    "moving_avg_reward = []\n",
    "window = 1000\n",
    "for i in range(window, n):\n",
    "    moving_avg_reward.append(100*sum(rewards[i-window:i])/window)\n",
    "\n",
    "fig, axes = plt.subplots(figsize=(8, 8))\n",
    "plt.plot(range(window, n), moving_avg_reward)\n",
    "axes.set(xlabel='Episode Idx', ylabel='Success Rate', title='Expected reward with a moving average with window size = {}'.format(window))\n",
    "plt.show()"
   ]
  },
  {
   "cell_type": "code",
   "execution_count": 20,
   "metadata": {
    "colab": {
     "base_uri": "https://localhost:8080/",
     "height": 84
    },
    "colab_type": "code",
    "id": "pWbSPDVPjfEd",
    "outputId": "ab6312dc-0dbb-4dda-ec51-3cbec4ce563e"
   },
   "outputs": [
    {
     "name": "stdout",
     "output_type": "stream",
     "text": [
      "[['LEFT' 'UP' 'LEFT' 'UP']\n",
      " ['LEFT' 'LEFT' 'RIGHT' 'LEFT']\n",
      " ['UP' 'DOWN' 'LEFT' 'LEFT']\n",
      " ['LEFT' 'RIGHT' 'DOWN' 'LEFT']]\n"
     ]
    }
   ],
   "source": [
    "# Print the action the agent takes at each state as per Q Table\n",
    "print(np.array([direction[x] for x in np.argmax(q_table, axis=1)]).reshape(4, 4))"
   ]
  },
  {
   "cell_type": "code",
   "execution_count": 21,
   "metadata": {
    "colab": {
     "base_uri": "https://localhost:8080/",
     "height": 1000
    },
    "colab_type": "code",
    "id": "5mDNO5dijjLi",
    "outputId": "e71a4342-4029-4ce2-95d5-544339b95fd4"
   },
   "outputs": [
    {
     "name": "stdout",
     "output_type": "stream",
     "text": [
      "---------EPISODE 0---------\n",
      "\n",
      "\u001b[41mS\u001b[0mFFF\n",
      "FHFH\n",
      "FFFH\n",
      "HFFG\n",
      "  (Left)\n",
      "\u001b[41mS\u001b[0mFFF\n",
      "FHFH\n",
      "FFFH\n",
      "HFFG\n",
      "  (Left)\n",
      "SFFF\n",
      "\u001b[41mF\u001b[0mHFH\n",
      "FFFH\n",
      "HFFG\n",
      "  (Left)\n",
      "\u001b[41mS\u001b[0mFFF\n",
      "FHFH\n",
      "FFFH\n",
      "HFFG\n",
      "  (Left)\n",
      "\u001b[41mS\u001b[0mFFF\n",
      "FHFH\n",
      "FFFH\n",
      "HFFG\n",
      "  (Left)\n",
      "SFFF\n",
      "\u001b[41mF\u001b[0mHFH\n",
      "FFFH\n",
      "HFFG\n",
      "  (Left)\n",
      "\u001b[41mS\u001b[0mFFF\n",
      "FHFH\n",
      "FFFH\n",
      "HFFG\n",
      "  (Left)\n",
      "SFFF\n",
      "\u001b[41mF\u001b[0mHFH\n",
      "FFFH\n",
      "HFFG\n",
      "  (Left)\n",
      "SFFF\n",
      "\u001b[41mF\u001b[0mHFH\n",
      "FFFH\n",
      "HFFG\n",
      "  (Left)\n",
      "SFFF\n",
      "\u001b[41mF\u001b[0mHFH\n",
      "FFFH\n",
      "HFFG\n",
      "  (Left)\n",
      "\u001b[41mS\u001b[0mFFF\n",
      "FHFH\n",
      "FFFH\n",
      "HFFG\n",
      "  (Left)\n",
      "\u001b[41mS\u001b[0mFFF\n",
      "FHFH\n",
      "FFFH\n",
      "HFFG\n",
      "  (Left)\n",
      "\u001b[41mS\u001b[0mFFF\n",
      "FHFH\n",
      "FFFH\n",
      "HFFG\n",
      "  (Left)\n",
      "\u001b[41mS\u001b[0mFFF\n",
      "FHFH\n",
      "FFFH\n",
      "HFFG\n",
      "  (Left)\n",
      "\u001b[41mS\u001b[0mFFF\n",
      "FHFH\n",
      "FFFH\n",
      "HFFG\n",
      "  (Left)\n",
      "SFFF\n",
      "\u001b[41mF\u001b[0mHFH\n",
      "FFFH\n",
      "HFFG\n",
      "  (Left)\n",
      "\u001b[41mS\u001b[0mFFF\n",
      "FHFH\n",
      "FFFH\n",
      "HFFG\n",
      "  (Left)\n",
      "\u001b[41mS\u001b[0mFFF\n",
      "FHFH\n",
      "FFFH\n",
      "HFFG\n",
      "  (Left)\n",
      "\u001b[41mS\u001b[0mFFF\n",
      "FHFH\n",
      "FFFH\n",
      "HFFG\n",
      "  (Left)\n",
      "\u001b[41mS\u001b[0mFFF\n",
      "FHFH\n",
      "FFFH\n",
      "HFFG\n",
      "  (Left)\n",
      "\u001b[41mS\u001b[0mFFF\n",
      "FHFH\n",
      "FFFH\n",
      "HFFG\n",
      "  (Left)\n",
      "\u001b[41mS\u001b[0mFFF\n",
      "FHFH\n",
      "FFFH\n",
      "HFFG\n",
      "  (Left)\n",
      "\u001b[41mS\u001b[0mFFF\n",
      "FHFH\n",
      "FFFH\n",
      "HFFG\n",
      "  (Left)\n",
      "\u001b[41mS\u001b[0mFFF\n",
      "FHFH\n",
      "FFFH\n",
      "HFFG\n",
      "  (Left)\n",
      "\u001b[41mS\u001b[0mFFF\n",
      "FHFH\n",
      "FFFH\n",
      "HFFG\n",
      "  (Left)\n",
      "SFFF\n",
      "\u001b[41mF\u001b[0mHFH\n",
      "FFFH\n",
      "HFFG\n",
      "  (Left)\n",
      "SFFF\n",
      "\u001b[41mF\u001b[0mHFH\n",
      "FFFH\n",
      "HFFG\n",
      "  (Left)\n",
      "SFFF\n",
      "FHFH\n",
      "\u001b[41mF\u001b[0mFFH\n",
      "HFFG\n",
      "  (Up)\n",
      "SFFF\n",
      "FHFH\n",
      "F\u001b[41mF\u001b[0mFH\n",
      "HFFG\n",
      "  (Down)\n",
      "SFFF\n",
      "FHFH\n",
      "\u001b[41mF\u001b[0mFFH\n",
      "HFFG\n",
      "  (Up)\n",
      "SFFF\n",
      "FHFH\n",
      "F\u001b[41mF\u001b[0mFH\n",
      "HFFG\n",
      "  (Down)\n",
      "SFFF\n",
      "FHFH\n",
      "FFFH\n",
      "H\u001b[41mF\u001b[0mFG\n",
      "  (Right)\n",
      "SFFF\n",
      "FHFH\n",
      "F\u001b[41mF\u001b[0mFH\n",
      "HFFG\n",
      "  (Down)\n",
      "SFFF\n",
      "FHFH\n",
      "FFFH\n",
      "H\u001b[41mF\u001b[0mFG\n",
      "  (Right)\n",
      "SFFF\n",
      "FHFH\n",
      "F\u001b[41mF\u001b[0mFH\n",
      "HFFG\n",
      "  (Down)\n",
      "SFFF\n",
      "FHFH\n",
      "FF\u001b[41mF\u001b[0mH\n",
      "HFFG\n",
      "  (Left)\n",
      "SFFF\n",
      "FHFH\n",
      "FFFH\n",
      "HF\u001b[41mF\u001b[0mG\n",
      "  (Down)\n",
      "SFFF\n",
      "FHFH\n",
      "FFFH\n",
      "HF\u001b[41mF\u001b[0mG\n",
      "  (Down)\n",
      "SFFF\n",
      "FHFH\n",
      "FFFH\n",
      "H\u001b[41mF\u001b[0mFG\n",
      "  (Right)\n",
      "SFFF\n",
      "FHFH\n",
      "FFFH\n",
      "HF\u001b[41mF\u001b[0mG\n",
      "  (Down)\n",
      "SFFF\n",
      "FHFH\n",
      "FFFH\n",
      "HF\u001b[41mF\u001b[0mG\n",
      "  (Down)\n",
      "SFFF\n",
      "FHFH\n",
      "FFFH\n",
      "HF\u001b[41mF\u001b[0mG\n",
      "  (Down)\n",
      "SFFF\n",
      "FHFH\n",
      "FFFH\n",
      "HFF\u001b[41mG\u001b[0m\n",
      "SUCCESS!!!\n"
     ]
    }
   ],
   "source": [
    "#Testing\n",
    "\n",
    "n, max_steps = 10000, 100\n",
    "count, num_prints = 0, 1\n",
    "rewards = []\n",
    "num_steps = []\n",
    "for episode in range(n):\n",
    "    s = env.reset()\n",
    "    total_reward = 0\n",
    "    if count<num_prints:\n",
    "        print('---------EPISODE {}---------'.format(episode))\n",
    "        env.render()\n",
    "    for i in range(max_steps):\n",
    "        a = np.argmax(q_table[s, :])\n",
    "        s, r, done, info = env.step(a)\n",
    "        total_reward+=r\n",
    "        if count<num_prints:\n",
    "            env.render()\n",
    "        if done: \n",
    "            rewards.append(total_reward)\n",
    "            num_steps.append(i+1)\n",
    "            if count<num_prints: \n",
    "                if r==1:\n",
    "                    print('SUCCESS!!!')\n",
    "                else:\n",
    "                    print('Failed :( )')\n",
    "            count+=1\n",
    "            break\n",
    "env.close()\n"
   ]
  },
  {
   "cell_type": "code",
   "execution_count": 22,
   "metadata": {
    "colab": {
     "base_uri": "https://localhost:8080/",
     "height": 50
    },
    "colab_type": "code",
    "id": "KPE6F1lrPIxS",
    "outputId": "e45fc01d-c051-409d-8d91-a60f872beba1"
   },
   "outputs": [
    {
     "name": "stdout",
     "output_type": "stream",
     "text": [
      "Success Percentage = 73.21 %\n",
      "Average number of steps taken to reach the goal = 41.30\n"
     ]
    }
   ],
   "source": [
    "print('Success Percentage = {0:.2f} %'.format(100*np.sum(rewards)/len(rewards)))\n",
    "print('Average number of steps taken to reach the goal = {0:.2f}'.format(np.mean(num_steps)))"
   ]
  },
  {
   "cell_type": "code",
   "execution_count": 0,
   "metadata": {
    "colab": {},
    "colab_type": "code",
    "id": "_v2CCUtvjr07"
   },
   "outputs": [],
   "source": []
  }
 ],
 "metadata": {
  "colab": {
   "collapsed_sections": [],
   "name": "Reinforcement Assignment.ipynb",
   "provenance": []
  },
  "kernelspec": {
   "display_name": "Python 3",
   "language": "python",
   "name": "python3"
  },
  "language_info": {
   "codemirror_mode": {
    "name": "ipython",
    "version": 3
   },
   "file_extension": ".py",
   "mimetype": "text/x-python",
   "name": "python",
   "nbconvert_exporter": "python",
   "pygments_lexer": "ipython3",
   "version": "3.7.4"
  }
 },
 "nbformat": 4,
 "nbformat_minor": 1
}
